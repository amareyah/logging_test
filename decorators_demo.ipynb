{
  "nbformat": 4,
  "nbformat_minor": 0,
  "metadata": {
    "colab": {
      "name": "decorators_demo",
      "provenance": [],
      "collapsed_sections": [],
      "authorship_tag": "ABX9TyMHiog+xypmTprmWVQvraPA",
      "include_colab_link": true
    },
    "kernelspec": {
      "name": "python3",
      "display_name": "Python 3"
    }
  },
  "cells": [
    {
      "cell_type": "markdown",
      "metadata": {
        "id": "view-in-github",
        "colab_type": "text"
      },
      "source": [
        "<a href=\"https://colab.research.google.com/github/amareyah/logging_test/blob/master/decorators_demo.ipynb\" target=\"_parent\"><img src=\"https://colab.research.google.com/assets/colab-badge.svg\" alt=\"Open In Colab\"/></a>"
      ]
    },
    {
      "cell_type": "code",
      "metadata": {
        "id": "lAQ6UNPxYTIB",
        "colab_type": "code",
        "colab": {}
      },
      "source": [
        "#decorator function without arguments\n",
        "def natural_number_check(func):\n",
        "  def new_func(x):\n",
        "    if type(x)==int and x > 0:\n",
        "      return func(x)\n",
        "    else: \n",
        "      raise Exception('argument should be positive')\n",
        "  return new_func\n",
        "\n",
        "@natural_number_check\n",
        "def fact(n):\n",
        "  result = 1\n",
        "  if n==1:\n",
        "    return result\n",
        "  else:\n",
        "    return (n)*fact(n-1)"
      ],
      "execution_count": 3,
      "outputs": []
    },
    {
      "cell_type": "code",
      "metadata": {
        "id": "0-Ug0awMY1--",
        "colab_type": "code",
        "colab": {
          "base_uri": "https://localhost:8080/",
          "height": 35
        },
        "outputId": "06e44b5b-56ed-4352-bc44-fbd6c90166e8"
      },
      "source": [
        "fact(5)"
      ],
      "execution_count": 2,
      "outputs": [
        {
          "output_type": "execute_result",
          "data": {
            "text/plain": [
              "120"
            ]
          },
          "metadata": {
            "tags": []
          },
          "execution_count": 2
        }
      ]
    },
    {
      "cell_type": "code",
      "metadata": {
        "id": "FCELDaN3Y16N",
        "colab_type": "code",
        "colab": {
          "base_uri": "https://localhost:8080/",
          "height": 52
        },
        "outputId": "c105465f-e192-4374-81a1-c83fd476d75c"
      },
      "source": [
        "#function decorator with arguments\n",
        "def greeting(expr1, expr2):\n",
        "    def greeting_decorator(func):\n",
        "        def function_wrapper(x):\n",
        "            print(f\"{expr1}, {expr2}\")\n",
        "            x = x.upper()\n",
        "            func(x)\n",
        "        return function_wrapper\n",
        "    return greeting_decorator\n",
        "\n",
        "@greeting(\"Good Morning\", \"sir\")\n",
        "def foo(x):\n",
        "    print(x)\n",
        "\n",
        "foo('Weather is fine')"
      ],
      "execution_count": 6,
      "outputs": [
        {
          "output_type": "stream",
          "text": [
            "Good Morning, sir\n",
            "WEATHER IS FINE\n"
          ],
          "name": "stdout"
        }
      ]
    },
    {
      "cell_type": "code",
      "metadata": {
        "id": "-GbVeuv6Y13w",
        "colab_type": "code",
        "colab": {
          "base_uri": "https://localhost:8080/",
          "height": 35
        },
        "outputId": "027bcce9-9932-4603-f79e-00c471b354a8"
      },
      "source": [
        "def my_decor(f):\n",
        "  print('running preparation task...')\n",
        "  def new_func(x):\n",
        "    print('This is new functionality')\n",
        "    f()\n",
        "    print('finished new functionality')\n",
        "  return new_func\n",
        "\n",
        "@my_decor\n",
        "def do_somthing_1():\n",
        "  print('Hello world')"
      ],
      "execution_count": 7,
      "outputs": [
        {
          "output_type": "stream",
          "text": [
            "running preparation task...\n"
          ],
          "name": "stdout"
        }
      ]
    },
    {
      "cell_type": "code",
      "metadata": {
        "id": "BSeDtJ5zY10_",
        "colab_type": "code",
        "colab": {
          "base_uri": "https://localhost:8080/",
          "height": 69
        },
        "outputId": "a7e9c8e1-7fc3-41b4-d8bd-2c7111e634c3"
      },
      "source": [
        "do_somthing(5)"
      ],
      "execution_count": 8,
      "outputs": [
        {
          "output_type": "stream",
          "text": [
            "This is new functionality\n",
            "Hello world\n",
            "finished new functionality\n"
          ],
          "name": "stdout"
        }
      ]
    },
    {
      "cell_type": "code",
      "metadata": {
        "id": "PQYviVP8Y0te",
        "colab_type": "code",
        "colab": {}
      },
      "source": [
        "#decorator class with arguments\n",
        "class my_decorator(object):\n",
        "  def __init__(self, message, num):\n",
        "    self.message = message\n",
        "    self.num = num\n",
        "  \n",
        "  def __call__(self, func):\n",
        "    print(\"Running initiaings..\")\n",
        "    def new_func(name_str):\n",
        "      print(self.message)\n",
        "      name_str = name_str.upper() * self.num\n",
        "      func(name_str)\n",
        "    return new_func"
      ],
      "execution_count": 9,
      "outputs": []
    },
    {
      "cell_type": "code",
      "metadata": {
        "id": "WWDf2gBQdOMK",
        "colab_type": "code",
        "colab": {
          "base_uri": "https://localhost:8080/",
          "height": 35
        },
        "outputId": "9bbf8eb4-d09d-455e-e788-288a485ffb19"
      },
      "source": [
        "@my_decorator(\"Good morning vakho\", 3)\n",
        "def do_something_2(t):\n",
        "  print(t)"
      ],
      "execution_count": 10,
      "outputs": [
        {
          "output_type": "stream",
          "text": [
            "Running initiaings..\n"
          ],
          "name": "stdout"
        }
      ]
    },
    {
      "cell_type": "code",
      "metadata": {
        "id": "CM2uAI07dRqo",
        "colab_type": "code",
        "colab": {
          "base_uri": "https://localhost:8080/",
          "height": 52
        },
        "outputId": "2acfaecf-cc57-467f-c22b-5f5ce1245b9e"
      },
      "source": [
        "do_something2('Vakho ')"
      ],
      "execution_count": 11,
      "outputs": [
        {
          "output_type": "stream",
          "text": [
            "Good morning vakho\n",
            "VAKHO VAKHO VAKHO \n"
          ],
          "name": "stdout"
        }
      ]
    },
    {
      "cell_type": "code",
      "metadata": {
        "id": "N6c7Qvh8dUpo",
        "colab_type": "code",
        "colab": {}
      },
      "source": [
        "#decorator class without arguments\n",
        "class my_decorator_2(object):\n",
        "  def __init__(self, func):\n",
        "    print(f'initiating decorator class and passing it function object called {func.__name__}')\n",
        "    self.f = func\n",
        "\n",
        "  def __call__(self, x):\n",
        "    print(\"Added some new functionality\")\n",
        "    x = x.upper()\n",
        "    self.f(x)"
      ],
      "execution_count": 19,
      "outputs": []
    },
    {
      "cell_type": "code",
      "metadata": {
        "id": "ukGzT456eGMm",
        "colab_type": "code",
        "colab": {
          "base_uri": "https://localhost:8080/",
          "height": 35
        },
        "outputId": "0ba7749b-4a47-4bae-ba3d-ea10c3f36fc7"
      },
      "source": [
        "@my_decorator_2\n",
        "def do_something_3(x):\n",
        "  print(x)"
      ],
      "execution_count": 21,
      "outputs": [
        {
          "output_type": "stream",
          "text": [
            "initiating decorator class and passing it function object called do_something_3\n"
          ],
          "name": "stdout"
        }
      ]
    },
    {
      "cell_type": "code",
      "metadata": {
        "id": "nkJAoz4reZ1u",
        "colab_type": "code",
        "colab": {
          "base_uri": "https://localhost:8080/",
          "height": 52
        },
        "outputId": "e58a9697-b666-432e-e9b4-b0d0afeb6ddc"
      },
      "source": [
        "do_something_3('Go away!')"
      ],
      "execution_count": 23,
      "outputs": [
        {
          "output_type": "stream",
          "text": [
            "Added some new functionality\n",
            "GO AWAY!\n"
          ],
          "name": "stdout"
        }
      ]
    },
    {
      "cell_type": "code",
      "metadata": {
        "id": "uth1tCL0eyxd",
        "colab_type": "code",
        "colab": {}
      },
      "source": [
        ""
      ],
      "execution_count": null,
      "outputs": []
    }
  ]
}