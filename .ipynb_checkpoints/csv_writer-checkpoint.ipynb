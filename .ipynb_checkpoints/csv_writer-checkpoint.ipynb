{
 "cells": [
  {
   "cell_type": "code",
   "execution_count": 1,
   "metadata": {},
   "outputs": [],
   "source": [
    "import csv"
   ]
  },
  {
   "cell_type": "code",
   "execution_count": 7,
   "metadata": {},
   "outputs": [],
   "source": [
    "data = [('IBM','content, text , |1','2017-08-28'),\n",
    "        ('IBM','content text 2','2017-03-19'),\n",
    "        ('IBM','content text 3','2017-07-22')]\n",
    "\n",
    "with open('news.csv','a') as csvFile:\n",
    "    writer = csv.writer(csvFile,delimiter='|', quotechar='\"', quoting=csv.QUOTE_MINIMAL)\n",
    "    writer.writerows(data)\n",
    "    csvFile.close()"
   ]
  },
  {
   "cell_type": "code",
   "execution_count": null,
   "metadata": {},
   "outputs": [],
   "source": []
  }
 ],
 "metadata": {
  "kernelspec": {
   "display_name": "Python 3",
   "language": "python",
   "name": "python3"
  },
  "language_info": {
   "codemirror_mode": {
    "name": "ipython",
    "version": 3
   },
   "file_extension": ".py",
   "mimetype": "text/x-python",
   "name": "python",
   "nbconvert_exporter": "python",
   "pygments_lexer": "ipython3",
   "version": "3.7.3"
  }
 },
 "nbformat": 4,
 "nbformat_minor": 2
}
